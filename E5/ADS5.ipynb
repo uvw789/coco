{
  "cells": [
    {
      "cell_type": "code",
      "source": [
        "import pandas as pd\n",
        "from imblearn.over_sampling import SMOTE\n",
        "from sklearn.model_selection import train_test_split\n",
        "from sklearn.ensemble import RandomForestClassifier\n",
        "from sklearn.metrics import classification_report\n",
        "\n",
        "# Load the dataset\n",
        "file_path = \"SMOTE - SMOTE.csv\"  # Replace this with your actual file path\n",
        "df = pd.read_csv(file_path)\n",
        "\n",
        "# Split features and target variable\n",
        "X = df.drop(columns=[\"Diabetes\"])\n",
        "y = df[\"Diabetes\"]\n",
        "\n",
        "# Check class distribution before SMOTE\n",
        "print(\"Class distribution before SMOTE:\\n\", y.value_counts())\n",
        "\n",
        "# Split into training and testing sets\n",
        "X_train, X_test, y_train, y_test = train_test_split(\n",
        "    X, y, test_size=0.2, random_state=42, stratify=y)\n",
        "\n",
        "# Apply SMOTE\n",
        "smote = SMOTE(sampling_strategy=0.75, k_neighbors=4, random_state=42)\n",
        "X_train_smote, y_train_smote = smote.fit_resample(X_train, y_train)\n",
        "\n",
        "# Check class distribution after SMOTE\n",
        "print(\"\\nClass distribution after SMOTE:\\n\", y_train_smote.value_counts())\n",
        "\n",
        "# Train a RandomForest model on original data\n",
        "clf_original = RandomForestClassifier(random_state=42)\n",
        "clf_original.fit(X_train, y_train)\n",
        "y_pred_original = clf_original.predict(X_test)\n",
        "\n",
        "# Train a RandomForest model on SMOTE data\n",
        "clf_smote = RandomForestClassifier(random_state=42)\n",
        "clf_smote.fit(X_train_smote, y_train_smote)\n",
        "y_pred_smote = clf_smote.predict(X_test)\n",
        "\n",
        "# Evaluate model performance\n",
        "print(\"\\nClassification Report (Original Data):\\n\")\n",
        "print(classification_report(y_test, y_pred_original))\n",
        "\n",
        "print(\"\\nClassification Report (SMOTE Applied):\\n\")\n",
        "print(classification_report(y_test, y_pred_smote))\n"
      ],
      "metadata": {
        "id": "8iVENnqspguI",
        "outputId": "567978c9-3486-4833-f9ef-2957edca173d",
        "colab": {
          "base_uri": "https://localhost:8080/"
        }
      },
      "execution_count": 1,
      "outputs": [
        {
          "output_type": "stream",
          "name": "stdout",
          "text": [
            "Class distribution before SMOTE:\n",
            " Diabetes\n",
            "0    900\n",
            "1    100\n",
            "Name: count, dtype: int64\n",
            "\n",
            "Class distribution after SMOTE:\n",
            " Diabetes\n",
            "0    720\n",
            "1    540\n",
            "Name: count, dtype: int64\n",
            "\n",
            "Classification Report (Original Data):\n",
            "\n",
            "              precision    recall  f1-score   support\n",
            "\n",
            "           0       0.98      1.00      0.99       180\n",
            "           1       1.00      0.80      0.89        20\n",
            "\n",
            "    accuracy                           0.98       200\n",
            "   macro avg       0.99      0.90      0.94       200\n",
            "weighted avg       0.98      0.98      0.98       200\n",
            "\n",
            "\n",
            "Classification Report (SMOTE Applied):\n",
            "\n",
            "              precision    recall  f1-score   support\n",
            "\n",
            "           0       0.98      0.97      0.97       180\n",
            "           1       0.73      0.80      0.76        20\n",
            "\n",
            "    accuracy                           0.95       200\n",
            "   macro avg       0.85      0.88      0.87       200\n",
            "weighted avg       0.95      0.95      0.95       200\n",
            "\n"
          ]
        }
      ]
    }
  ],
  "metadata": {
    "colab": {
      "name": "Welcome to Colab",
      "provenance": []
    },
    "kernelspec": {
      "display_name": "Python 3",
      "name": "python3"
    }
  },
  "nbformat": 4,
  "nbformat_minor": 0
}
